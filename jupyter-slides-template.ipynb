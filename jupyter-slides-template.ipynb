{
 "cells": [
  {
   "cell_type": "markdown",
   "id": "0",
   "metadata": {
    "slideshow": {
     "slide_type": "slide"
    }
   },
   "source": [
    "# Testing for Ghosts in the Machine: Assuring 'Good Enough' Software Quality in AI-based systems<br>\n",
    "\n",
    "## Artur Patoka\n",
    "PyCon Italia<br>\n",
    "Florence 2024"
   ]
  },
  {
   "cell_type": "markdown",
   "id": "1",
   "metadata": {
    "slideshow": {
     "slide_type": "slide"
    }
   },
   "source": [
    "![prace_logos.png](https://raw.githubusercontent.com/arturpat/pycon-it-pres-2/main/prace_logos.png)"
   ]
  },
  {
   "cell_type": "markdown",
   "id": "2",
   "metadata": {
    "slideshow": {
     "slide_type": "slide"
    }
   },
   "source": [
    "# Agenda"
   ]
  },
  {
   "cell_type": "markdown",
   "id": "3",
   "metadata": {
    "slideshow": {
     "slide_type": "fragment"
    }
   },
   "source": [
    "- Problem statement (the WHY)"
   ]
  },
  {
   "cell_type": "markdown",
   "id": "4",
   "metadata": {
    "slideshow": {
     "slide_type": "fragment"
    }
   },
   "source": [
    "- The challenges (the OH MY GOD)"
   ]
  },
  {
   "cell_type": "markdown",
   "id": "5",
   "metadata": {
    "slideshow": {
     "slide_type": "fragment"
    }
   },
   "source": [
    "- The solutions (the relief 😌)"
   ]
  },
  {
   "cell_type": "markdown",
   "id": "6",
   "metadata": {
    "slideshow": {
     "slide_type": "slide"
    }
   },
   "source": [
    "# Problem statement"
   ]
  },
  {
   "cell_type": "markdown",
   "id": "7",
   "metadata": {
    "slideshow": {
     "slide_type": "slide"
    }
   },
   "source": [
    "![1.png](https://raw.githubusercontent.com/arturpat/pycon-it-pres-2/main/1.png)"
   ]
  },
  {
   "cell_type": "markdown",
   "id": "8",
   "metadata": {
    "slideshow": {
     "slide_type": "slide"
    }
   },
   "source": [
    "![2.png](https://raw.githubusercontent.com/arturpat/pycon-it-pres-2/main/2.png)"
   ]
  },
  {
   "cell_type": "markdown",
   "id": "9",
   "metadata": {
    "slideshow": {
     "slide_type": "slide"
    }
   },
   "source": [
    "![3.png](https://raw.githubusercontent.com/arturpat/pycon-it-pres-2/main/3.png)"
   ]
  },
  {
   "cell_type": "markdown",
   "id": "10",
   "metadata": {
    "slideshow": {
     "slide_type": "slide"
    }
   },
   "source": [
    "![4.GIF](https://raw.githubusercontent.com/arturpat/pycon-it-pres-2/main/4.GIF)"
   ]
  },
  {
   "cell_type": "markdown",
   "id": "11",
   "metadata": {
    "slideshow": {
     "slide_type": "slide"
    }
   },
   "source": [
    "“Design the Polish Space Program Mission Patch”<br>\n",
    "![patch.png](https://raw.githubusercontent.com/arturpat/pycon-it-pres-2/main/patch.png)"
   ]
  },
  {
   "cell_type": "markdown",
   "id": "12",
   "metadata": {
    "slideshow": {
     "slide_type": "slide"
    }
   },
   "source": [
    "# What about some real-life examples?"
   ]
  },
  {
   "cell_type": "markdown",
   "id": "13",
   "metadata": {
    "slideshow": {
     "slide_type": "slide"
    }
   },
   "source": [
    "![air_canada.png](https://raw.githubusercontent.com/arturpat/pycon-it-pres-2/main/air_canada.png)"
   ]
  },
  {
   "cell_type": "markdown",
   "id": "14",
   "metadata": {
    "slideshow": {
     "slide_type": "slide"
    }
   },
   "source": [
    "![chevy.png](https://raw.githubusercontent.com/arturpat/pycon-it-pres-2/main/chevy.png)"
   ]
  },
  {
   "cell_type": "markdown",
   "id": "15",
   "metadata": {
    "slideshow": {
     "slide_type": "slide"
    }
   },
   "source": [
    "![dpd_1.png](https://raw.githubusercontent.com/arturpat/pycon-it-pres-2/main/dpd_1.png)\n",
    "![dpd_2.png](https://raw.githubusercontent.com/arturpat/pycon-it-pres-2/main/dpd_2.png)"
   ]
  },
  {
   "cell_type": "markdown",
   "id": "16",
   "metadata": {
    "slideshow": {
     "slide_type": "slide"
    }
   },
   "source": [
    "## Someone (hopefully) is responsible for the quality of those chatbots\n",
    "![fine.gif](https://raw.githubusercontent.com/arturpat/pycon-it-pres-2/main/fine.gif)"
   ]
  },
  {
   "cell_type": "markdown",
   "id": "17",
   "metadata": {
    "slideshow": {
     "slide_type": "slide"
    }
   },
   "source": [
    "# My personal experience"
   ]
  },
  {
   "cell_type": "markdown",
   "id": "18",
   "metadata": {
    "slideshow": {
     "slide_type": "slide"
    }
   },
   "source": [
    "## A chatbot assistant for logged-in customer with knowledge base access and several functions available"
   ]
  },
  {
   "cell_type": "markdown",
   "id": "19",
   "metadata": {
    "slideshow": {
     "slide_type": "slide"
    }
   },
   "source": [
    "## `cli-gen` - a hobby project\n",
    "![cli-gen_demo.gif](https://raw.githubusercontent.com/arturpat/cli-gen/main/cli-gen_demo.gif)\n",
    "https://github.com/arturpat/cli-gen<br>\n",
    "![cli_gen_link.png](https://raw.githubusercontent.com/arturpat/pycon-it-pres-2/main/cli_gen_link.png)"
   ]
  },
  {
   "cell_type": "markdown",
   "id": "20",
   "metadata": {
    "slideshow": {
     "slide_type": "slide"
    }
   },
   "source": [
    "# The challenges (the OH MY GOD)"
   ]
  },
  {
   "cell_type": "markdown",
   "id": "21",
   "metadata": {
    "slideshow": {
     "slide_type": "slide"
    }
   },
   "source": [
    "## Everything is non-deterministic"
   ]
  },
  {
   "cell_type": "markdown",
   "id": "22",
   "metadata": {
    "slideshow": {
     "slide_type": "slide"
    }
   },
   "source": [
    "## Everything is slow"
   ]
  },
  {
   "cell_type": "markdown",
   "id": "23",
   "metadata": {
    "slideshow": {
     "slide_type": "fragment"
    }
   },
   "source": [
    "> Why don't you just execute tests calling the `openAI` API in parallel?"
   ]
  },
  {
   "cell_type": "markdown",
   "id": "24",
   "metadata": {
    "slideshow": {
     "slide_type": "fragment"
    }
   },
   "source": [
    "Well, rate limiting, mostly"
   ]
  },
  {
   "cell_type": "markdown",
   "id": "25",
   "metadata": {
    "slideshow": {
     "slide_type": "slide"
    }
   },
   "source": [
    "## Everything changes on monthly weekly basis"
   ]
  },
  {
   "cell_type": "markdown",
   "id": "26",
   "metadata": {
    "slideshow": {
     "slide_type": "slide"
    }
   },
   "source": [
    "## Deciding on scope\n",
    "- Security (e.g. initial prompt protection)\n",
    "- Performance\n",
    "- Answers correctness\n",
    "- Unwanted topics avoidance\n",
    "- Testing how functions are called"
   ]
  },
  {
   "cell_type": "markdown",
   "id": "27",
   "metadata": {
    "slideshow": {
     "slide_type": "slide"
    }
   },
   "source": [
    "## Requirements are simply not present ever"
   ]
  },
  {
   "cell_type": "markdown",
   "id": "28",
   "metadata": {
    "slideshow": {
     "slide_type": "slide"
    }
   },
   "source": [
    "# How did we even get here?\n",
    "![pepe_cry_hands.gif](https://raw.githubusercontent.com/arturpat/pycon-it-pres-2/main/pepe_cry_hands.gif)"
   ]
  },
  {
   "cell_type": "markdown",
   "id": "29",
   "metadata": {
    "slideshow": {
     "slide_type": "slide"
    }
   },
   "source": [
    "![technology_s_curve.png](https://raw.githubusercontent.com/arturpat/pycon-it-pres-2/main/technology_s_curve.png)"
   ]
  },
  {
   "cell_type": "markdown",
   "id": "30",
   "metadata": {
    "slideshow": {
     "slide_type": "slide"
    }
   },
   "source": [
    "![technology_s_curve_marked.png](https://raw.githubusercontent.com/arturpat/pycon-it-pres-2/main/technology_s_curve_marked.png)"
   ]
  },
  {
   "cell_type": "markdown",
   "id": "31",
   "metadata": {
    "slideshow": {
     "slide_type": "slide"
    }
   },
   "source": [
    "![technology_s_curve_question.png](https://raw.githubusercontent.com/arturpat/pycon-it-pres-2/main/technology_s_curve_question.png)"
   ]
  },
  {
   "cell_type": "markdown",
   "id": "32",
   "metadata": {
    "slideshow": {
     "slide_type": "slide"
    }
   },
   "source": [
    "## The solutions (the relief 😌)"
   ]
  },
  {
   "cell_type": "markdown",
   "id": "33",
   "metadata": {
    "slideshow": {
     "slide_type": "slide"
    }
   },
   "source": [
    "## Good 'ol assert will *sometimes* do"
   ]
  },
  {
   "cell_type": "code",
   "execution_count": null,
   "id": "34",
   "metadata": {},
   "outputs": [],
   "source": [
    "def test_ls(chat):\n",
    "    command = chat.ask_gpt_code_snippet_only(\n",
    "        \"list files in directory in the most simple way\"\n",
    "    )\n",
    "    assert command == \"ls\"\n",
    "\n",
    "\n",
    "def test_rm(chat):\n",
    "    command = chat.ask_gpt_code_snippet_only(\"remove file named test.txt\")\n",
    "    assert command == \"rm test.txt\""
   ]
  },
  {
   "cell_type": "markdown",
   "id": "35",
   "metadata": {
    "slideshow": {
     "slide_type": "slide"
    }
   },
   "source": [
    "## Sources\n",
    "- Air Canada lawsuit: https://www.theguardian.com/world/2024/feb/16/air-canada-chatbot-lawsuit\n",
    "- Chevey Tachoe for $1: https://twitter.com/ChrisJBakke/status/1736533308849443121\n",
    "- DPD swear-bot: https://www.bbc.com/news/technology-68025677\n",
    "\n",
    "![pres_qr.png](https://raw.githubusercontent.com/arturpat/pycon-it-pres-2/main/pres_qr.png)"
   ]
  }
 ],
 "metadata": {
  "celltoolbar": "Slideshow",
  "kernelspec": {
   "display_name": "Python 3 (ipykernel)",
   "language": "python",
   "name": "python3"
  },
  "language_info": {
   "codemirror_mode": {
    "name": "ipython",
    "version": 3
   },
   "file_extension": ".py",
   "mimetype": "text/x-python",
   "name": "python",
   "nbconvert_exporter": "python",
   "pygments_lexer": "ipython3",
   "version": "3.11.8"
  }
 },
 "nbformat": 4,
 "nbformat_minor": 5
}
