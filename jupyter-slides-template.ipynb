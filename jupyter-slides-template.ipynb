{
 "cells": [
  {
   "cell_type": "markdown",
   "id": "0",
   "metadata": {
    "slideshow": {
     "slide_type": "slide"
    }
   },
   "source": [
    "# Testing for Ghosts in the Machine: Assuring 'Good Enough' Software Quality in AI-based systems<br>\n",
    "\n",
    "## Artur Patoka\n",
    "PyCon Italia<br>\n",
    "Florence 2024"
   ]
  },
  {
   "cell_type": "markdown",
   "id": "1",
   "metadata": {
    "slideshow": {
     "slide_type": "slide"
    }
   },
   "source": [
    "![prace_logos.png](https://raw.githubusercontent.com/arturpat/pycon-it-pres-2/main/prace_logos.png)"
   ]
  },
  {
   "cell_type": "markdown",
   "id": "2",
   "metadata": {
    "slideshow": {
     "slide_type": "slide"
    }
   },
   "source": [
    "# Problem statement"
   ]
  },
  {
   "cell_type": "markdown",
   "id": "3",
   "metadata": {
    "slideshow": {
     "slide_type": "slide"
    }
   },
   "source": [
    "![1.png](https://raw.githubusercontent.com/arturpat/pycon-it-pres-2/main/1.png)"
   ]
  },
  {
   "cell_type": "markdown",
   "id": "4",
   "metadata": {
    "slideshow": {
     "slide_type": "slide"
    }
   },
   "source": [
    "![2.png](https://raw.githubusercontent.com/arturpat/pycon-it-pres-2/main/2.png)"
   ]
  },
  {
   "cell_type": "markdown",
   "id": "5",
   "metadata": {
    "slideshow": {
     "slide_type": "slide"
    }
   },
   "source": [
    "![3.png](https://raw.githubusercontent.com/arturpat/pycon-it-pres-2/main/3.png)"
   ]
  },
  {
   "cell_type": "markdown",
   "id": "6",
   "metadata": {
    "slideshow": {
     "slide_type": "slide"
    }
   },
   "source": [
    "![4.GIF](https://raw.githubusercontent.com/arturpat/pycon-it-pres-2/main/4.GIF)"
   ]
  },
  {
   "cell_type": "markdown",
   "id": "7",
   "metadata": {
    "slideshow": {
     "slide_type": "slide"
    }
   },
   "source": [
    "![patch.webp](https://raw.githubusercontent.com/arturpat/pycon-it-pres-2/main/patch.webp)"
   ]
  },
  {
   "cell_type": "markdown",
   "id": "8",
   "metadata": {
    "slideshow": {
     "slide_type": "slide"
    }
   },
   "source": [
    "# What about some real-life examples?"
   ]
  },
  {
   "cell_type": "markdown",
   "id": "9",
   "metadata": {
    "slideshow": {
     "slide_type": "slide"
    }
   },
   "source": [
    "![air_canada.png](https://raw.githubusercontent.com/arturpat/pycon-it-pres-2/main/air_canada.png)"
   ]
  },
  {
   "cell_type": "markdown",
   "id": "10",
   "metadata": {
    "slideshow": {
     "slide_type": "slide"
    }
   },
   "source": [
    "![chevy.png](https://raw.githubusercontent.com/arturpat/pycon-it-pres-2/main/chevy.png)"
   ]
  },
  {
   "cell_type": "markdown",
   "id": "11",
   "metadata": {
    "slideshow": {
     "slide_type": "slide"
    }
   },
   "source": [
    "![dpd_1.png](https://raw.githubusercontent.com/arturpat/pycon-it-pres-2/main/dpd_1.png)\n",
    "![dpd_2.png](https://raw.githubusercontent.com/arturpat/pycon-it-pres-2/main/dpd_2.png)"
   ]
  },
  {
   "cell_type": "markdown",
   "id": "12",
   "metadata": {
    "slideshow": {
     "slide_type": "slide"
    }
   },
   "source": [
    "![chevy.png](https://raw.githubusercontent.com/arturpat/pycon-it-pres-2/main/chevy.png)"
   ]
  },
  {
   "cell_type": "markdown",
   "id": "13",
   "metadata": {
    "slideshow": {
     "slide_type": "slide"
    }
   },
   "source": [
    "![chevy.png](https://raw.githubusercontent.com/arturpat/pycon-it-pres-2/main/chevy.png)"
   ]
  },
  {
   "cell_type": "markdown",
   "id": "14",
   "metadata": {
    "slideshow": {
     "slide_type": "slide"
    }
   },
   "source": [
    "![chevy.png](https://raw.githubusercontent.com/arturpat/pycon-it-pres-2/main/chevy.png)"
   ]
  },
  {
   "cell_type": "markdown",
   "id": "15",
   "metadata": {
    "slideshow": {
     "slide_type": "slide"
    }
   },
   "source": [
    "## Display a cell with its output"
   ]
  },
  {
   "cell_type": "code",
   "execution_count": null,
   "id": "16",
   "metadata": {
    "slideshow": {
     "slide_type": "slide"
    }
   },
   "outputs": [],
   "source": [
    "import sme\n",
    "\n",
    "model = sme.open_example_model()\n",
    "print(model)"
   ]
  },
  {
   "cell_type": "markdown",
   "id": "17",
   "metadata": {
    "slideshow": {
     "slide_type": "slide"
    }
   },
   "source": [
    "## Output can be plots or images"
   ]
  },
  {
   "cell_type": "markdown",
   "id": "18",
   "metadata": {
    "slideshow": {
     "slide_type": "slide"
    }
   },
   "source": [
    "![screen_empire.png](https://raw.githubusercontent.com/arturpat/pycon-it-pres-2/main/screen_empire.png)"
   ]
  },
  {
   "cell_type": "markdown",
   "id": "19",
   "metadata": {
    "slideshow": {
     "slide_type": "slide"
    }
   },
   "source": []
  },
  {
   "cell_type": "markdown",
   "id": "20",
   "metadata": {
    "slideshow": {
     "slide_type": "slide"
    }
   },
   "source": [
    "## Or even videos"
   ]
  },
  {
   "cell_type": "code",
   "execution_count": null,
   "id": "21",
   "metadata": {
    "slideshow": {
     "slide_type": "slide"
    }
   },
   "outputs": [],
   "source": [
    "import sme_contrib.plot as smeplot\n",
    "from IPython.display import HTML\n",
    "\n",
    "results = model.simulate(100, 10)\n",
    "anim = smeplot.concentration_heatmap_animation(results, [\"B_cell\"])\n",
    "HTML(anim.to_html5_video())"
   ]
  },
  {
   "cell_type": "markdown",
   "id": "22",
   "metadata": {
    "slideshow": {
     "slide_type": "slide"
    }
   },
   "source": [
    "## Sources\n",
    "- Air Canada lawsuit: https://www.theguardian.com/world/2024/feb/16/air-canada-chatbot-lawsuit\n",
    "- Chevey Tachoe for $1: https://twitter.com/ChrisJBakke/status/1736533308849443121\n",
    "- DPD swear-bot: https://www.bbc.com/news/technology-68025677\n",
    "![pres_qr.png](https://raw.githubusercontent.com/arturpat/pycon-it-pres-2/main/pres_qr.png)"
   ]
  }
 ],
 "metadata": {
  "celltoolbar": "Slideshow",
  "kernelspec": {
   "display_name": "Python 3 (ipykernel)",
   "language": "python",
   "name": "python3"
  },
  "language_info": {
   "codemirror_mode": {
    "name": "ipython",
    "version": 3
   },
   "file_extension": ".py",
   "mimetype": "text/x-python",
   "name": "python",
   "nbconvert_exporter": "python",
   "pygments_lexer": "ipython3",
   "version": "3.11.8"
  }
 },
 "nbformat": 4,
 "nbformat_minor": 5
}
